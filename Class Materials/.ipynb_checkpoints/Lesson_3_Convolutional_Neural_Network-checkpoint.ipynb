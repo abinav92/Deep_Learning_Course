{
 "cells": [
  {
   "cell_type": "markdown",
   "metadata": {
    "id": "DI6Dz89XniMJ"
   },
   "source": [
    "# **Convolutional Neural Network for Fashion MNIST Classification with TensorFlow**\n",
    "This notebook provides a hands-on exercise to build a Convolutional Neural Network (CNN) model for classifying fashion items from the Fashion-MNIST dataset using TensorFlow.\n",
    "\n",
    "## **Learning Objectives:**\n",
    "\n",
    "* Understand the steps involved in building and training a CNN model.\n",
    "* Apply convolutional layers and pooling layers for image feature extraction.\n",
    "* Train the model on the Fashion-MNIST dataset.\n",
    "* Evaluate the model's performance.\n",
    "* Make predictions on new images.\n",
    "* Visualize learned features.\n",
    "\n",
    "## **Prerequisites:**\n",
    "\n",
    "* Basic understanding of Python programming\n",
    "* Familiarity with Machine Learning and Deep Learning concepts"
   ]
  },
  {
   "cell_type": "markdown",
   "metadata": {
    "id": "wCnC4s4Ihsci"
   },
   "source": [
    "## **The Fashion MNIST dataset**\n",
    "\n",
    "We wil be using the [Fashion MNIST](https://github.com/zalandoresearch/fashion-mnist) dataset which contains 70,000 grayscale images in 10 categories. The images show individual articles of clothing at low resolution (28 by 28 pixels), as seen here:\n",
    "\n",
    "<table>\n",
    "  <tr><td>\n",
    "    <img src=\"https://tensorflow.org/images/fashion-mnist-sprite.png\"\n",
    "         alt=\"Fashion MNIST sprite\"  width=\"600\">\n",
    "  </td></tr>\n",
    "  <tr><td align=\"center\">\n",
    "    <b>Figure 1.</b> <a href=\"https://github.com/zalandoresearch/fashion-mnist\">Fashion-MNIST samples</a> (by Zalando, MIT License).<br/>&nbsp;\n",
    "  </td></tr>\n",
    "</table>"
   ]
  },
  {
   "cell_type": "markdown",
   "metadata": {
    "id": "E7SivmJEnx3A"
   },
   "source": [
    "## **1: Import Libraries and Load Data**"
   ]
  },
  {
   "cell_type": "code",
   "execution_count": 1,
   "metadata": {
    "colab": {
     "base_uri": "https://localhost:8080/"
    },
    "id": "W3YFN7TDl5Jg",
    "outputId": "0cc95c30-0d9d-44f1-dd98-5bac04519193"
   },
   "outputs": [
    {
     "name": "stdout",
     "output_type": "stream",
     "text": [
      "Downloading data from https://storage.googleapis.com/tensorflow/tf-keras-datasets/train-labels-idx1-ubyte.gz\n",
      "29515/29515 [==============================] - 0s 0us/step\n",
      "Downloading data from https://storage.googleapis.com/tensorflow/tf-keras-datasets/train-images-idx3-ubyte.gz\n",
      "26421880/26421880 [==============================] - 1s 0us/step\n",
      "Downloading data from https://storage.googleapis.com/tensorflow/tf-keras-datasets/t10k-labels-idx1-ubyte.gz\n",
      "5148/5148 [==============================] - 0s 0us/step\n",
      "Downloading data from https://storage.googleapis.com/tensorflow/tf-keras-datasets/t10k-images-idx3-ubyte.gz\n",
      "4422102/4422102 [==============================] - 1s 0us/step\n",
      "Train images shape: (60000, 28, 28, 1)\n",
      "Train labels shape: (60000,)\n",
      "Test images shape: (10000, 28, 28, 1)\n",
      "Test labels shape: (10000,)\n"
     ]
    }
   ],
   "source": [
    "# Import necessary libraries\n",
    "import tensorflow as tf\n",
    "from tensorflow.keras.datasets import fashion_mnist\n",
    "from tensorflow.keras.models import Sequential\n",
    "from tensorflow.keras.layers import Conv2D, MaxPooling2D, Flatten, Dense\n",
    "\n",
    "# Load the Fashion-MNIST dataset\n",
    "(train_images, train_labels), (test_images, test_labels) = fashion_mnist.load_data()\n",
    "\n",
    "# Normalize pixel values (optional but recommended)\n",
    "train_images = train_images.astype('float32') / 255.0\n",
    "test_images = test_images.astype('float32') / 255.0\n",
    "\n",
    "# Reshape images for CNN input (add a channel dimension)\n",
    "train_images = train_images.reshape(-1, 28, 28, 1)\n",
    "test_images = test_images.reshape(-1, 28, 28, 1)\n",
    "\n",
    "# Print the data shapes\n",
    "print(\"Train images shape:\", train_images.shape)\n",
    "print(\"Train labels shape:\", train_labels.shape)\n",
    "print(\"Test images shape:\", test_images.shape)\n",
    "print(\"Test labels shape:\", test_labels.shape)"
   ]
  },
  {
   "cell_type": "markdown",
   "metadata": {
    "id": "idym8nZsn2NA"
   },
   "source": [
    "### **Explanation:**\n",
    "\n",
    "1. We import necessary libraries: TensorFlow for deep learning operations, `fashion_mnist` for loading the dataset, and Keras for building the CNN model.\n",
    "2. We load the Fashion-MNIST dataset using `fashion_mnist.load_data()`. This function returns four NumPy arrays: training images, training labels, testing images, and testing labels.\n",
    "3. Pixel values in the images range from 0 to 255. It's a common practice to normalize them between 0 and 1 for better training performance.\n",
    "4. We reshape the images to add a channel dimension (1 for grayscale images). CNNs typically expect data with channels (e.g., RGB for color images).\n",
    "    -  CNN expects input in this format: (number of images, image height, image width, number of channels)\n",
    "    -  reshape(`-1`,...): This is a shortcut that tells Python, \"Figure this out for me based on the total number of images.\"\n",
    "    -  reshape(..,`28, 28,`...): height and width of each image — the Fashion-MNIST dataset has 28×28 pixel grayscale images.\n",
    "    -  reshape(...,`1`): number of color channels - 1 = grayscale (black & white) and 3 = RGB color image. Note that our dataset is grayscale images.\n",
    "6. We print the shapes of the training and testing data to understand their dimensions."
   ]
  },
  {
   "cell_type": "markdown",
   "metadata": {
    "id": "fFAOlmsxiUQa"
   },
   "source": [
    "Loading the dataset returns four NumPy arrays:\n",
    "\n",
    "* The `train_images` and `train_labels` arrays are the *training set*—the data the model uses to learn.\n",
    "* The model is tested against the *test set*, the `test_images`, and `test_labels` arrays.\n",
    "\n",
    "The images are 28x28 NumPy arrays, with pixel values ranging from 0 to 255. The *labels* are an array of integers, ranging from 0 to 9. These correspond to the *class* of clothing the image represents:\n",
    "\n",
    "<table>\n",
    "  <tr>\n",
    "    <th>Label</th>\n",
    "    <th>Class</th>\n",
    "  </tr>\n",
    "  <tr>\n",
    "    <td>0</td>\n",
    "    <td>T-shirt/top</td>\n",
    "  </tr>\n",
    "  <tr>\n",
    "    <td>1</td>\n",
    "    <td>Trouser</td>\n",
    "  </tr>\n",
    "    <tr>\n",
    "    <td>2</td>\n",
    "    <td>Pullover</td>\n",
    "  </tr>\n",
    "    <tr>\n",
    "    <td>3</td>\n",
    "    <td>Dress</td>\n",
    "  </tr>\n",
    "    <tr>\n",
    "    <td>4</td>\n",
    "    <td>Coat</td>\n",
    "  </tr>\n",
    "    <tr>\n",
    "    <td>5</td>\n",
    "    <td>Sandal</td>\n",
    "  </tr>\n",
    "    <tr>\n",
    "    <td>6</td>\n",
    "    <td>Shirt</td>\n",
    "  </tr>\n",
    "    <tr>\n",
    "    <td>7</td>\n",
    "    <td>Sneaker</td>\n",
    "  </tr>\n",
    "    <tr>\n",
    "    <td>8</td>\n",
    "    <td>Bag</td>\n",
    "  </tr>\n",
    "    <tr>\n",
    "    <td>9</td>\n",
    "    <td>Ankle boot</td>\n",
    "  </tr>\n",
    "</table>\n",
    "\n",
    "In the dataset, each image is mapped to a single label, which is an integer number, not a *class name*."
   ]
  },
  {
   "cell_type": "markdown",
   "metadata": {
    "id": "K6eAZOUzoDpY"
   },
   "source": [
    "## **2: Define the CNN Model**"
   ]
  },
  {
   "cell_type": "code",
   "execution_count": 2,
   "metadata": {
    "colab": {
     "base_uri": "https://localhost:8080/"
    },
    "id": "BhhmgQ53l6HI",
    "outputId": "b4295585-7c09-4dc3-8a7a-ed6584bae2c9"
   },
   "outputs": [
    {
     "name": "stdout",
     "output_type": "stream",
     "text": [
      "Model: \"sequential\"\n",
      "_________________________________________________________________\n",
      " Layer (type)                Output Shape              Param #   \n",
      "=================================================================\n",
      " conv2d (Conv2D)             (None, 26, 26, 32)        320       \n",
      "                                                                 \n",
      " max_pooling2d (MaxPooling2  (None, 13, 13, 32)        0         \n",
      " D)                                                              \n",
      "                                                                 \n",
      " conv2d_1 (Conv2D)           (None, 11, 11, 64)        18496     \n",
      "                                                                 \n",
      " max_pooling2d_1 (MaxPoolin  (None, 5, 5, 64)          0         \n",
      " g2D)                                                            \n",
      "                                                                 \n",
      " flatten (Flatten)           (None, 1600)              0         \n",
      "                                                                 \n",
      " dense (Dense)               (None, 64)                102464    \n",
      "                                                                 \n",
      " dense_1 (Dense)             (None, 10)                650       \n",
      "                                                                 \n",
      "=================================================================\n",
      "Total params: 121930 (476.29 KB)\n",
      "Trainable params: 121930 (476.29 KB)\n",
      "Non-trainable params: 0 (0.00 Byte)\n",
      "_________________________________________________________________\n"
     ]
    }
   ],
   "source": [
    "# Define the CNN model\n",
    "model = Sequential([\n",
    "  # Convolutional layer 1\n",
    "  Conv2D(32, (3, 3), activation='relu', input_shape=(28, 28, 1)),\n",
    "  # Max pooling layer 1\n",
    "  MaxPooling2D((2, 2)),\n",
    "\n",
    "  # Convolutional layer 2\n",
    "  Conv2D(64, (3, 3), activation='relu'),\n",
    "  # Max pooling layer 2\n",
    "  MaxPooling2D((2, 2)),\n",
    "\n",
    "  # Flatten layer to convert 2D feature maps to 1D vector\n",
    "  Flatten(),\n",
    "\n",
    "  # Dense layer 1 with 64 units and ReLU activation\n",
    "  Dense(64, activation='relu'),\n",
    "\n",
    "  # Output layer with 10 units (one for each clothing category) \n",
    "  # and softmax activation for probability distribution\n",
    "  Dense(10, activation='softmax')\n",
    "])\n",
    "\n",
    "# Compile the model with optimizer, loss function, and metrics\n",
    "model.compile(optimizer='adam',\n",
    "              loss='sparse_categorical_crossentropy',\n",
    "              metrics=['accuracy'])\n",
    "\n",
    "# Print the model summary\n",
    "model.summary()"
   ]
  },
  {
   "cell_type": "markdown",
   "metadata": {
    "id": "GjaJ9NveoPyA"
   },
   "source": [
    "### **Explanation:**\n",
    "\n",
    "* **Convolutional Layers:**\n",
    "\n",
    "    * The two `Conv2D` layers are the core feature extractors of our CNN. They use small filters (3x3) to slide over the input image and identify patterns.\n",
    "    * We start with 32 filters in the first layer and increase to 64 filters in the second. The idea is to progressively extract more complex features as we go deeper into the network.\n",
    "    * The `relu` activation function introduces non-linearity. It helps prevent the model from learning simple linear relationships.\n",
    "* **Max Pooling Layers:**\n",
    "\n",
    "    * `MaxPooling2D` layers reduce the dimensionality of the feature maps. This:\n",
    "        * Makes computation faster\n",
    "        * Helps the model focus on the most important features\n",
    "        * Provides some translational invariance (i.e., the ability to recognize features even if they're slightly shifted in the image).\n",
    "* **Flatten Layer:**\n",
    "\n",
    "    * The `Flatten` layer prepares the output of the convolutional layers for the dense layers. It converts the 2D feature maps into one long vector.\n",
    "* **Dense Layers:**\n",
    "\n",
    "    * The dense layers act as traditional neural network layers. They interpret the extracted features from the convolutional part of the model.\n",
    "    * The last `Dense` layer has ten units, one for each fashion class. The `softmax` activation calculates probabilities for each of the classes.\n",
    "* **Compilation:**\n",
    "\n",
    "    * `optimizer`: We choose 'adam', a common optimizer that adaptively updates learning rates.\n",
    "    * `loss`: 'sparse_categorical_crossentropy' is used for multi-class classification problems where the labels are integers. We're using sparse_categorical_crossentropy because our labels have NOT been one-hot encoded.\n",
    "    * `metrics`: We track 'accuracy' to evaluate how often the model correctly predicts the clothing category."
   ]
  },
  {
   "cell_type": "markdown",
   "metadata": {},
   "source": [
    "### **Understanding the model compilation summary:**\n",
    "1. `conv2d (Conv2D)`:\n",
    "- Input shape was (28, 28, 1) — grayscale image. Output shape: (None, 26, 26, 32)\n",
    "    - 32 filters (kernels) → gives 32 output channels.\n",
    "    - 3×3 filter with default stride of 1 reduces width/height by 2 (no padding).\n",
    "    - Param #: 320\n",
    "    - Formula: (filter_height × filter_width × input_channels + 1) × filters. (3×3×1 + 1) × 32 = 320\n",
    "2. `max_pooling2d`:\n",
    "- Output shape: (None, 13, 13, 32)\n",
    "    - 2×2 pooling cuts each spatial dimension in half.\n",
    "    - Param #: 0 (Pooling has no weights — it just picks max values.)\n",
    "\n",
    "And so on.."
   ]
  },
  {
   "cell_type": "markdown",
   "metadata": {
    "id": "9-otAqUMpqkp"
   },
   "source": [
    "## **3: Train the Model**"
   ]
  },
  {
   "cell_type": "code",
   "execution_count": 3,
   "metadata": {
    "colab": {
     "base_uri": "https://localhost:8080/"
    },
    "id": "MM1G59T9mULz",
    "outputId": "4cd3c45f-0e6f-4ea1-a3f9-f5ff76065677"
   },
   "outputs": [
    {
     "name": "stdout",
     "output_type": "stream",
     "text": [
      "Epoch 1/5\n",
      "1875/1875 [==============================] - 13s 5ms/step - loss: 0.4569 - accuracy: 0.8360 - val_loss: 0.3504 - val_accuracy: 0.8739\n",
      "Epoch 2/5\n",
      "1875/1875 [==============================] - 8s 4ms/step - loss: 0.3067 - accuracy: 0.8885 - val_loss: 0.3290 - val_accuracy: 0.8761\n",
      "Epoch 3/5\n",
      "1875/1875 [==============================] - 8s 4ms/step - loss: 0.2624 - accuracy: 0.9038 - val_loss: 0.2860 - val_accuracy: 0.8972\n",
      "Epoch 4/5\n",
      "1875/1875 [==============================] - 8s 4ms/step - loss: 0.2315 - accuracy: 0.9146 - val_loss: 0.2693 - val_accuracy: 0.9013\n",
      "Epoch 5/5\n",
      "1875/1875 [==============================] - 14s 7ms/step - loss: 0.2073 - accuracy: 0.9232 - val_loss: 0.2649 - val_accuracy: 0.9065\n"
     ]
    }
   ],
   "source": [
    "# Train the model\n",
    "history = model.fit(train_images, train_labels, \n",
    "                    epochs=5, \n",
    "                    validation_data=(test_images, test_labels))"
   ]
  },
  {
   "cell_type": "markdown",
   "metadata": {
    "id": "_hfepr0Ep1_m"
   },
   "source": [
    "### **Explanation:**\n",
    "\n",
    "1. We use the `fit` method of the model to train the CNN.\n",
    "2. We pass the training images (`train_images`) and their corresponding labels (`train_labels`) as input.\n",
    "3. We train for 5 epochs (iterations over the entire dataset).\n",
    "4. We evaluate the model's performance on unseen data using the validation set (`test_images`, `test_labels`)."
   ]
  },
  {
   "cell_type": "markdown",
   "metadata": {
    "id": "yFV6sW7SqDKg"
   },
   "source": [
    "## **4: Evaluate the Model**"
   ]
  },
  {
   "cell_type": "code",
   "execution_count": 4,
   "metadata": {
    "colab": {
     "base_uri": "https://localhost:8080/"
    },
    "id": "cyRGqz2vmbLN",
    "outputId": "ce975fb0-24d1-4f3c-f612-61d910c4fa5a"
   },
   "outputs": [
    {
     "name": "stdout",
     "output_type": "stream",
     "text": [
      "313/313 - 1s - loss: 0.2649 - accuracy: 0.9065 - 601ms/epoch - 2ms/step\n",
      "\n",
      "Test accuracy: 0.906499981880188\n"
     ]
    }
   ],
   "source": [
    "# Evaluate the model's performance on the test set\n",
    "test_loss, test_acc = model.evaluate(test_images, test_labels, verbose=2)\n",
    "print('\\nTest accuracy:', test_acc)"
   ]
  },
  {
   "cell_type": "markdown",
   "metadata": {
    "id": "lsQaMivwqJBj"
   },
   "source": [
    "### **Explanation:**\n",
    "\n",
    "1. We use the `evaluate` method to get the loss and accuracy of the model on the test set.\n",
    "2. `verbose=2` will output a progress bar during the evaluation."
   ]
  },
  {
   "cell_type": "markdown",
   "metadata": {
    "id": "VYJEGRidqPg5"
   },
   "source": [
    "## **5: Make Predictions**"
   ]
  },
  {
   "cell_type": "code",
   "execution_count": 5,
   "metadata": {
    "colab": {
     "base_uri": "https://localhost:8080/"
    },
    "id": "kt4QrNakmeDd",
    "outputId": "4eab42ed-b027-455f-a64d-0ae2b16a031f"
   },
   "outputs": [
    {
     "name": "stdout",
     "output_type": "stream",
     "text": [
      "313/313 [==============================] - 1s 2ms/step\n",
      "Predicted class for the first test image: 9\n"
     ]
    }
   ],
   "source": [
    "import numpy as np\n",
    "\n",
    "# Make predictions on new images\n",
    "predictions = model.predict(test_images)\n",
    "\n",
    "# Example of predicting the class for the first image in the test set\n",
    "print(\"Predicted class for the first test image:\", np.argmax(predictions[0]))"
   ]
  },
  {
   "cell_type": "markdown",
   "metadata": {
    "id": "e0zk9KV1qTgH"
   },
   "source": [
    "### **Explanation:**\n",
    "\n",
    "1. The `predict` method generates predictions for new images (in this case, from the test set).\n",
    "2. `np.argmax(predictions[0])` extracts the class with the highest probability for the first image in the test set."
   ]
  },
  {
   "cell_type": "markdown",
   "metadata": {
    "id": "-1DXCGy8qYyZ"
   },
   "source": [
    "## **6: Visualization**"
   ]
  },
  {
   "cell_type": "code",
   "execution_count": 6,
   "metadata": {
    "colab": {
     "base_uri": "https://localhost:8080/",
     "height": 428
    },
    "id": "jJ9bLHDvmiaA",
    "outputId": "6af01738-09a0-402e-f486-7b4f85588547"
   },
   "outputs": [
    {
     "data": {
      "image/png": "[encoded data removed]",
      "text/plain": [
       "<Figure size 640x480 with 1 Axes>"
      ]
     },
     "metadata": {},
     "output_type": "display_data"
    }
   ],
   "source": [
    "import matplotlib.pyplot as plt\n",
    "\n",
    "# Function to plot an image along with its predicted class\n",
    "def plot_image_prediction(image, prediction, true_label, class_names):\n",
    "  plt.imshow(image.reshape(28, 28), cmap=plt.cm.binary) # Display the image\n",
    "  predicted_label = class_names[np.argmax(prediction)]\n",
    "  true_label = class_names[true_label]\n",
    "  plt.title(\"Predicted: {}, True: {}\".format(predicted_label, true_label))\n",
    "  plt.axis('off')\n",
    "\n",
    "# Class names for the dataset\n",
    "class_names = ['T-shirt/top', 'Trouser', 'Pullover', 'Dress', 'Coat',\n",
    "               'Sandal', 'Shirt', 'Sneaker', 'Bag', 'Ankle boot']\n",
    "\n",
    "# Plot first image from test set with its predicted label\n",
    "plot_image_prediction(test_images[0], predictions[0], test_labels[0], class_names)\n",
    "plt.show()"
   ]
  },
  {
   "cell_type": "markdown",
   "metadata": {
    "id": "3C3uNLrQqfzB"
   },
   "source": [
    "### **Explanation:**\n",
    "\n",
    "1. We import `matplotlib.pyplot` for plotting.\n",
    "2. The `plot_image_prediction` function helps visualize an image and its prediction.\n",
    "3. The class names are defined to have readable labels.\n",
    "4. We plot an example image with its prediction using the defined function.\n",
    "\n",
    "### **Important Notes**\n",
    "\n",
    "* This is a basic CNN example. You can achieve higher accuracy with more complex architectures, data augmentation, and hyperparameter tuning.\n",
    "* Experiment with the filter sizes, number of layers, and number of epochs to see how those affect the performance."
   ]
  },
  {
   "cell_type": "markdown",
   "metadata": {
    "id": "twA5u4kiq8Lc"
   },
   "source": [
    "**Conclusion**\n",
    "\n",
    "In this hands-on exercise, you built a basic Convolutional Neural Network to classify images from the Fashion-MNIST dataset. Here's what you've accomplished:\n",
    "\n",
    "* **Learned about CNN architectures:** You saw how convolutional layers, pooling layers, and dense layers work together to extract features and classify images.\n",
    "* **Trained a CNN model:** You fit the model to the training data, learning to distinguish between different clothing items.\n",
    "* **Evaluated your model:** You calculated the accuracy on the test set, getting a sense of its generalization capabilities.\n",
    "* **Visualized results:**  You visualized the model's predictions to understand its decision-making process.\n",
    "\n",
    "**Next Steps: Exploring More**\n",
    "\n",
    "* **Experiment and improve:** Try adjusting the model architecture, the number of epochs, and optimization techniques to see how they  improve accuracy.\n",
    "* **Data Augmentation:** Increase the size and variation of your training set using image transformations (rotations, flips, etc.) to make your model more robust.\n",
    "* **Advanced CNN Architectures:** Explore state-of-the-art architectures like ResNet, VGG, and DenseNet.\n",
    "\n",
    "**References for Further Learning**\n",
    "\n",
    "* **TensorFlow/Keras documentation:** [https://www.tensorflow.org/](https://www.tensorflow.org/)\n",
    "* **Deep Learning book (Ian Goodfellow, Yoshua Bengio, and Aaron Courville):** [http://www.deeplearningbook.org/](http://www.deeplearningbook.org/)\n",
    "* **Hands-On Machine Learning with Scikit-Learn, Keras & TensorFlow (Aurélien Géron)**\n"
   ]
  }
 ],
 "metadata": {
  "accelerator": "GPU",
  "colab": {
   "gpuType": "T4",
   "provenance": []
  },
  "kernelspec": {
   "display_name": "Python [conda env:base] *",
   "language": "python",
   "name": "conda-base-py"
  },
  "language_info": {
   "codemirror_mode": {
    "name": "ipython",
    "version": 3
   },
   "file_extension": ".py",
   "mimetype": "text/x-python",
   "name": "python",
   "nbconvert_exporter": "python",
   "pygments_lexer": "ipython3",
   "version": "3.12.7"
  }
 },
 "nbformat": 4,
 "nbformat_minor": 4
}
