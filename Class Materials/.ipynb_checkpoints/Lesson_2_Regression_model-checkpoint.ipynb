{
 "cells": [
  {
   "cell_type": "markdown",
   "metadata": {
    "id": "YfzwLrW0UfUP"
   },
   "source": [
    "# **Hands-On Exercise: Building Your First Regression Model with TensorFlow**\n",
    "\n",
    "## **Objectives**\n",
    "\n",
    "Understand the core concepts of building a linear regression model.\n",
    "Get comfortable with basic TensorFlow operations and workflow.\n",
    "Experience the process of training and evaluating a model.\n",
    "## **Prerequisites**\n",
    "\n",
    "Basic Python programming concepts (variables, functions, loops).\n",
    "A general understanding of what machine learning is."
   ]
  },
  {
   "cell_type": "markdown",
   "metadata": {
    "id": "B0f6g6CMVcLP"
   },
   "source": [
    "## **1. Setting Up the Problem**\n",
    "\n",
    "### **Understanding Linear Regression**\n",
    "\n",
    "Linear regression is a type of machine learning model that tries to find a straight line that best represents the relationship between an input variable (feature) and an output variable (target).\n",
    "\n",
    "For example, we could predict the price of a house based on its size in square feet.\n",
    "\n",
    "### **Generating Sample Data**\n",
    "\n",
    "Let's first create some sample data to work with. We'll simulate a linear relationship, with some noise added to make it a bit more realistic."
   ]
  },
  {
   "cell_type": "code",
   "execution_count": null,
   "metadata": {},
   "outputs": [],
   "source": [
    "# Import libraries\n",
    "import numpy as np\n",
    "\n",
    "import matplotlib.pyplot as plt\n",
    "\n",
    "from tensorflow import keras\n",
    "from tensorflow.keras import layers"
   ]
  },
  {
   "cell_type": "code",
   "execution_count": 3,
   "metadata": {
    "colab": {
     "base_uri": "https://localhost:8080/",
     "height": 472
    },
    "id": "5PrVrWuzVR9Y",
    "outputId": "d9891cd1-05c7-410a-def3-b62550b41391"
   },
   "outputs": [
    {
     "data": {
      "image/png": "[encoded data removed]",
      "text/plain": [
       "<Figure size 640x480 with 1 Axes>"
      ]
     },
     "metadata": {},
     "output_type": "display_data"
    }
   ],
   "source": [
    "# Set a random seed for reproducibility of generated random numbers\n",
    "np.random.seed(42)\n",
    "\n",
    "# Generate data with a linear relationship (plus some noise)\n",
    "x_data = np.linspace(0, 10, 200) # Creates 200 evenly spaced values from 0 to 10. This is our input feature.\n",
    "y_data = 3 * x_data + 1 + np.random.randn(200) # Generates the output/target values\n",
    "# Start with a line: 3 * x_data + 1, plus added noise using np.random.randn(200) gives 200 random values from a standard normal distribution\n",
    "\n",
    "# Let's take a look at relationship between X and y!\n",
    "plt.scatter(x_data, y_data)\n",
    "plt.xlabel('Input Feature')\n",
    "plt.ylabel('Target Value')\n",
    "plt.title('Sample Data')\n",
    "plt.show()"
   ]
  },
  {
   "cell_type": "markdown",
   "metadata": {
    "id": "rb4EGZSfV7dn"
   },
   "source": [
    "## **2. Building the Regression Model with TensorFlow**\n",
    "\n",
    "### **Defining the Model**\n",
    "\n",
    "In TensorFlow `Keras`, we represent models as a __sequence of layers__. For our linear regression model, we need a single layer:"
   ]
  },
  {
   "cell_type": "code",
   "execution_count": 2,
   "metadata": {
    "id": "cmb0IroHWA7v"
   },
   "outputs": [],
   "source": [
    "# A simple model with one Dense layer (remember, we want a line)\n",
    "model = keras.Sequential([\n",
    "    layers.Dense(units=1, input_shape=[1])\n",
    "])"
   ]
  },
  {
   "cell_type": "markdown",
   "metadata": {},
   "source": [
    "- `Dense` is a fully connected layer in a neural network. It's commonly used for input, hidden, and output layers.\n",
    "- In our code above, we're building a linear regression model, at a basic level, it only needs 1 layer to learn a straight line: y = wx + b (w is weight, x is input and b is bias).\n",
    "- So, the dense layer defined above is the __output__ layer with: `units=1` to predict 1 value (the target). In other words, the output layer has 1 neuron/node and `input_shape=[1]` informs that we have one input feature \"x_data\""
   ]
  },
  {
   "cell_type": "markdown",
   "metadata": {
    "id": "-_F8F1VYWENH"
   },
   "source": [
    "### **Compiling the Model**\n",
    "\n",
    "Before training, we need to configure how the model should learn:\n",
    "\n",
    "* **Optimizer:** The algorithm that updates model weights during training to reduce errors. _Adam_ is a smart and commonly used method that works well for most problems.\n",
    "* **Loss function:** How the model measures error (we'll use 'mean_squared_error') and gets an understanding of how wrong its predictions are."
   ]
  },
  {
   "cell_type": "code",
   "execution_count": 3,
   "metadata": {
    "id": "8r8gJZ1aWCGc"
   },
   "outputs": [],
   "source": [
    "model.compile(optimizer='adam', loss='mean_squared_error')"
   ]
  },
  {
   "cell_type": "markdown",
   "metadata": {
    "id": "EFHRysO8WhkH"
   },
   "source": [
    "## **3. Training the Model**\n",
    "\n",
    "### **Fitting to Data**\n",
    "\n",
    "Training is where the model learns! We feed it our input and output data and the model adjusts the line it draws to better fit the relationship.\n",
    "The model improves gradually over multiple passes through the data — called epochs."
   ]
  },
  {
   "cell_type": "code",
   "execution_count": 4,
   "metadata": {
    "colab": {
     "base_uri": "https://localhost:8080/"
    },
    "id": "x5CVthEwWfk5",
    "outputId": "bafe08b2-f640-4e22-9798-056e3c85b41e",
    "scrolled": true
   },
   "outputs": [
    {
     "name": "stdout",
     "output_type": "stream",
     "text": [
      "Epoch 1/50\n",
      "7/7 [==============================] - 1s 5ms/step - loss: 73.2947\n",
      "Epoch 2/50\n",
      "7/7 [==============================] - 0s 3ms/step - loss: 72.4962\n",
      "Epoch 3/50\n",
      "7/7 [==============================] - 0s 3ms/step - loss: 71.6916\n",
      "Epoch 4/50\n",
      "7/7 [==============================] - 0s 3ms/step - loss: 70.9507\n",
      "Epoch 5/50\n",
      "7/7 [==============================] - 0s 3ms/step - loss: 70.1636\n",
      "Epoch 6/50\n",
      "7/7 [==============================] - 0s 3ms/step - loss: 69.4167\n",
      "Epoch 7/50\n",
      "7/7 [==============================] - 0s 4ms/step - loss: 68.6394\n",
      "Epoch 8/50\n",
      "7/7 [==============================] - 0s 4ms/step - loss: 67.9012\n",
      "Epoch 9/50\n",
      "7/7 [==============================] - 0s 4ms/step - loss: 67.1208\n",
      "Epoch 10/50\n",
      "7/7 [==============================] - 0s 4ms/step - loss: 66.3973\n",
      "Epoch 11/50\n",
      "7/7 [==============================] - 0s 4ms/step - loss: 65.6824\n",
      "Epoch 12/50\n",
      "7/7 [==============================] - 0s 3ms/step - loss: 64.9811\n",
      "Epoch 13/50\n",
      "7/7 [==============================] - 0s 3ms/step - loss: 64.2392\n",
      "Epoch 14/50\n",
      "7/7 [==============================] - 0s 2ms/step - loss: 63.5528\n",
      "Epoch 15/50\n",
      "7/7 [==============================] - 0s 2ms/step - loss: 62.8381\n",
      "Epoch 16/50\n",
      "7/7 [==============================] - 0s 2ms/step - loss: 62.1425\n",
      "Epoch 17/50\n",
      "7/7 [==============================] - 0s 2ms/step - loss: 61.4273\n",
      "Epoch 18/50\n",
      "7/7 [==============================] - 0s 2ms/step - loss: 60.7527\n",
      "Epoch 19/50\n",
      "7/7 [==============================] - 0s 2ms/step - loss: 60.0426\n",
      "Epoch 20/50\n",
      "7/7 [==============================] - 0s 2ms/step - loss: 59.3464\n",
      "Epoch 21/50\n",
      "7/7 [==============================] - 0s 2ms/step - loss: 58.6751\n",
      "Epoch 22/50\n",
      "7/7 [==============================] - 0s 2ms/step - loss: 58.0073\n",
      "Epoch 23/50\n",
      "7/7 [==============================] - 0s 2ms/step - loss: 57.3463\n",
      "Epoch 24/50\n",
      "7/7 [==============================] - 0s 2ms/step - loss: 56.6820\n",
      "Epoch 25/50\n",
      "7/7 [==============================] - 0s 2ms/step - loss: 56.0384\n",
      "Epoch 26/50\n",
      "7/7 [==============================] - 0s 3ms/step - loss: 55.3933\n",
      "Epoch 27/50\n",
      "7/7 [==============================] - 0s 2ms/step - loss: 54.7678\n",
      "Epoch 28/50\n",
      "7/7 [==============================] - 0s 2ms/step - loss: 54.1454\n",
      "Epoch 29/50\n",
      "7/7 [==============================] - 0s 4ms/step - loss: 53.5154\n",
      "Epoch 30/50\n",
      "7/7 [==============================] - 0s 3ms/step - loss: 52.9215\n",
      "Epoch 31/50\n",
      "7/7 [==============================] - 0s 2ms/step - loss: 52.3256\n",
      "Epoch 32/50\n",
      "7/7 [==============================] - 0s 2ms/step - loss: 51.7631\n",
      "Epoch 33/50\n",
      "7/7 [==============================] - 0s 2ms/step - loss: 51.1349\n",
      "Epoch 34/50\n",
      "7/7 [==============================] - 0s 2ms/step - loss: 50.5446\n",
      "Epoch 35/50\n",
      "7/7 [==============================] - 0s 2ms/step - loss: 49.9542\n",
      "Epoch 36/50\n",
      "7/7 [==============================] - 0s 2ms/step - loss: 49.3640\n",
      "Epoch 37/50\n",
      "7/7 [==============================] - 0s 2ms/step - loss: 48.7630\n",
      "Epoch 38/50\n",
      "7/7 [==============================] - 0s 2ms/step - loss: 48.1921\n",
      "Epoch 39/50\n",
      "7/7 [==============================] - 0s 2ms/step - loss: 47.6403\n",
      "Epoch 40/50\n",
      "7/7 [==============================] - 0s 2ms/step - loss: 47.1021\n",
      "Epoch 41/50\n",
      "7/7 [==============================] - 0s 2ms/step - loss: 46.5486\n",
      "Epoch 42/50\n",
      "7/7 [==============================] - 0s 3ms/step - loss: 46.0003\n",
      "Epoch 43/50\n",
      "7/7 [==============================] - 0s 3ms/step - loss: 45.4569\n",
      "Epoch 44/50\n",
      "7/7 [==============================] - 0s 2ms/step - loss: 44.9449\n",
      "Epoch 45/50\n",
      "7/7 [==============================] - 0s 2ms/step - loss: 44.4150\n",
      "Epoch 46/50\n",
      "7/7 [==============================] - 0s 2ms/step - loss: 43.8900\n",
      "Epoch 47/50\n",
      "7/7 [==============================] - 0s 3ms/step - loss: 43.3761\n",
      "Epoch 48/50\n",
      "7/7 [==============================] - 0s 2ms/step - loss: 42.8499\n",
      "Epoch 49/50\n",
      "7/7 [==============================] - 0s 2ms/step - loss: 42.3283\n",
      "Epoch 50/50\n",
      "7/7 [==============================] - 0s 2ms/step - loss: 41.8006\n"
     ]
    }
   ],
   "source": [
    "# Train the model\n",
    "history = model.fit(x_data, y_data, epochs=50)"
   ]
  },
  {
   "cell_type": "markdown",
   "metadata": {},
   "source": [
    "- `7/7` per epoch refers to the fact that the dataset was split into 7 mini-batches. Keras trains models in mini-batches for efficiency. By default, if you don’t set batch_size, Keras uses a default (usually 32) and divides the data accordingly. We had x_data with 200 samples. With batch_size = 32 (default): 200 / 32  = ~7 rounded.\n",
    "- `history` → A training object that stores the training progress (loss after each epoch)."
   ]
  },
  {
   "cell_type": "markdown",
   "metadata": {
    "id": "Jsrh7yO3WrDf"
   },
   "source": [
    "## **4. Making Predictions**\n",
    "\n",
    "### **Using the Trained Model**\n",
    "\n",
    "Now let's use our trained model to predict the output (e.g., house price) for new input features (e.g., house sizes):"
   ]
  },
  {
   "cell_type": "code",
   "execution_count": 5,
   "metadata": {
    "colab": {
     "base_uri": "https://localhost:8080/"
    },
    "id": "_yBj9892Wo2f",
    "outputId": "04eba9b0-5499-4016-acc2-a570b9b8914c"
   },
   "outputs": [
    {
     "name": "stdout",
     "output_type": "stream",
     "text": [
      "1/1 [==============================] - 0s 82ms/step\n",
      "[[10.319069]\n",
      " [24.309462]\n",
      " [30.305346]]\n"
     ]
    }
   ],
   "source": [
    "new_x_values = np.array([5, 12, 15]) # Use the trained model to make predictions for 3 new input values\n",
    "predictions = model.predict(new_x_values)\n",
    "print(predictions)"
   ]
  },
  {
   "cell_type": "markdown",
   "metadata": {
    "id": "e_qHdwXcW0T3"
   },
   "source": [
    "## **5. Visualizing the Results**"
   ]
  },
  {
   "cell_type": "code",
   "execution_count": 7,
   "metadata": {
    "colab": {
     "base_uri": "https://localhost:8080/",
     "height": 472
    },
    "id": "YNdFeR4hWyQc",
    "outputId": "a411dc86-01d7-4eb9-d49f-8da90f2379aa"
   },
   "outputs": [
    {
     "data": {
      "image/png": "[encoded data removed]",
      "text/plain": [
       "<Figure size 640x480 with 1 Axes>"
      ]
     },
     "metadata": {},
     "output_type": "display_data"
    }
   ],
   "source": [
    "plt.scatter(x_data, y_data)  # Original data\n",
    "plt.plot(new_x_values, predictions, 'r')  # Line plot for Model's predictions\n",
    "plt.xlabel('Input Feature')\n",
    "plt.ylabel('Target Value')\n",
    "plt.title('Predictions (Red Line)')\n",
    "plt.show()"
   ]
  },
  {
   "cell_type": "markdown",
   "metadata": {
    "id": "ZFLOWyk7Xo3F"
   },
   "source": [
    "# **Conclusion**\n",
    "\n",
    "In this hands-on exercise, you got your feet wet in the world of TensorFlow! Here's what we accomplished:\n",
    "\n",
    "* **Learned the fundamentals:** You discovered how linear regression works.\n",
    "* **Applied TensorFlow:** You built a simple regression model with TensorFlow, understanding concepts like variables and placeholders.\n",
    "* **Experienced model training:** You trained your model to fit the data and make predictions.\n",
    "\n",
    "**Useful Resources for Further Learning**\n",
    "\n",
    "* **TensorFlow Official Website:**  [https://www.tensorflow.org/](https://www.tensorflow.org/) – Tutorials, guides, and comprehensive documentation.\n",
    "* **Hands-On Machine Learning with Scikit-Learn, Keras, and TensorFlow (Book):** [https://www.amazon.com/Hands-Machine-Learning-Scikit-Learn-TensorFlow/dp/1492032646](https://www.amazon.com/Hands-Machine-Learning-Scikit-Learn-TensorFlow/dp/1492032646) –  A fantastic resource for applied machine learning with TensorFlow.\n",
    "* **TensorFlow Courses on Coursera or Udemy:** These platforms offer structured courses to dive deeper into TensorFlow's capabilities."
   ]
  }
 ],
 "metadata": {
  "colab": {
   "provenance": []
  },
  "kernelspec": {
   "display_name": "Python [conda env:base] *",
   "language": "python",
   "name": "conda-base-py"
  },
  "language_info": {
   "codemirror_mode": {
    "name": "ipython",
    "version": 3
   },
   "file_extension": ".py",
   "mimetype": "text/x-python",
   "name": "python",
   "nbconvert_exporter": "python",
   "pygments_lexer": "ipython3",
   "version": "3.12.7"
  }
 },
 "nbformat": 4,
 "nbformat_minor": 4
}
