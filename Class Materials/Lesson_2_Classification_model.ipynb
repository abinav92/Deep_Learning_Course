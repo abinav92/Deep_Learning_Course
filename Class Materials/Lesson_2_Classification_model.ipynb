{
  "cells": [
    {
      "cell_type": "markdown",
      "metadata": {
        "id": "eGoMJz2QVvLH"
      },
      "source": [
        "# **Building a Digit Classifier with TensorFlow**\n",
        "This notebook will guide you through building a simple image classification model using TensorFlow. We'll be classifying handwritten digits from the MNIST dataset, a popular benchmark for introduction to machine learning.\n",
        "\n",
        "## **1: Importing Libraries**"
      ]
    },
    {
      "cell_type": "code",
      "execution_count": 1,
      "metadata": {
        "id": "gv8cQJVVUQJl"
      },
      "outputs": [],
      "source": [
        "# Import necessary libraries\n",
        "import tensorflow as tf\n",
        "from tensorflow.keras.datasets import mnist\n",
        "from tensorflow.keras.models import Sequential\n",
        "from tensorflow.keras.layers import Dense, Flatten"
      ]
    },
    {
      "cell_type": "markdown",
      "metadata": {
        "id": "0_ztzcmZWOnu"
      },
      "source": [
        "### **Explanation:**\n",
        "\n",
        "* We import `tensorflow` as tf for easier use.\n",
        "* `tensorflow.keras.datasets `provides access to datasets like MNIST.\n",
        "* `tensorflow.keras.models` allows us to build our classification model.\n",
        "* `tensorflow.keras.layers` defines the building blocks of our model (Dense, Flatten).\n",
        "* Finally, we print the TensorFlow version for reference."
      ]
    },
    {
      "cell_type": "markdown",
      "metadata": {
        "id": "nBhFkRZNWfgq"
      },
      "source": [
        "## **2: Loading the MNIST Dataset**"
      ]
    },
    {
      "cell_type": "code",
      "execution_count": null,
      "metadata": {
        "colab": {
          "base_uri": "https://localhost:8080/"
        },
        "id": "cJY8LAWWURBM",
        "outputId": "af3f23ed-b750-4790-e9db-60eb8606c14e"
      },
      "outputs": [
        {
          "name": "stdout",
          "output_type": "stream",
          "text": [
            "Downloading data from https://storage.googleapis.com/tensorflow/tf-keras-datasets/mnist.npz\n",
            "11490434/11490434 [==============================] - 0s 0us/step\n",
            "Training data shape: (60000, 28, 28), (60000,)\n",
            "Testing data shape: (10000, 28, 28), (10000,)\n"
          ]
        }
      ],
      "source": [
        "# Load the MNIST dataset\n",
        "(x_train, y_train), (x_test, y_test) = mnist.load_data()\n",
        "\n",
        "# Print the shapes of training and testing data\n",
        "print(f\"Training data shape: {x_train.shape}, {y_train.shape}\")\n",
        "print(f\"Testing data shape: {x_test.shape}, {y_test.shape}\")"
      ]
    },
    {
      "cell_type": "markdown",
      "metadata": {
        "id": "lrxfq1jCWkiR"
      },
      "source": [
        "### **Explanation:**\n",
        "\n",
        "* `mnist.load_data()` loads the MNIST dataset, splitting it into training and testing sets.\n",
        "* `x_train` and `x_test` contain the image data (handwritten digits). These are 28x28 pixel images, flattened into single arrays.\n",
        "* `y_train` and `y_test` contain the corresponding labels (which digit the image represents). These are single integers (0-9).\n",
        "* We print the shapes of the data to understand its dimensions."
      ]
    },
    {
      "cell_type": "markdown",
      "metadata": {
        "id": "GWUxi9tiXI0-"
      },
      "source": [
        "## **3: Data Preprocessing**"
      ]
    },
    {
      "cell_type": "code",
      "execution_count": null,
      "metadata": {
        "colab": {
          "base_uri": "https://localhost:8080/"
        },
        "id": "ctbD7d-BUTmf",
        "outputId": "dbb17b49-fa24-49aa-b75b-8a5b72ea96ab"
      },
      "outputs": [
        {
          "name": "stdout",
          "output_type": "stream",
          "text": [
            "Reshaped training data: (60000, 784)\n",
            "Reshaped testing data: (10000, 784)\n"
          ]
        }
      ],
      "source": [
        "# Normalize the pixel values (between 0 and 1) for better training\n",
        "x_train = x_train.astype('float32') / 255\n",
        "x_test = x_test.astype('float32') / 255\n",
        "\n",
        "# Reshape the data for feeding into the neural network\n",
        "# As our model expects a specific input format\n",
        "x_train = x_train.reshape((x_train.shape[0], 28 * 28))\n",
        "x_test = x_test.reshape((x_test.shape[0], 28 * 28))\n",
        "\n",
        "# Print the shapes after reshaping\n",
        "print(f\"Reshaped training data: {x_train.shape}\")\n",
        "print(f\"Reshaped testing data: {x_test.shape}\")"
      ]
    },
    {
      "cell_type": "markdown",
      "metadata": {
        "id": "DQl5byuwXgHW"
      },
      "source": [
        "### **Explanation:**\n",
        "\n",
        "* Pixel values in MNIST are between 0 and 255. We normalize them between 0 and 1 for better training performance.\n",
        "* `astype('float32')` converts the data type to float for calculations.\n",
        "* Our model expects a flattened image as input (28x28 pixels as a single array). We reshape the data accordingly.\n",
        "* We print the data shapes after reshaping to confirm the changes."
      ]
    },
    {
      "cell_type": "markdown",
      "metadata": {
        "id": "UawYWnwwXxW1"
      },
      "source": [
        "## **4: Building the Classification Model**"
      ]
    },
    {
      "cell_type": "code",
      "execution_count": null,
      "metadata": {
        "id": "xGqYadsUUVZr"
      },
      "outputs": [],
      "source": [
        "# Define a sequential model\n",
        "model = Sequential()\n",
        "\n",
        "# Flatten the input layer (28*28 pixels to single array)\n",
        "model.add(Flatten(input_shape=(28 * 28,)))\n",
        "\n",
        "# Add the first hidden layer with 128 neurons and ReLU activation\n",
        "model.add(Dense(128, activation='relu'))\n",
        "\n",
        "# Add a second hidden layer with 64 neurons and ReLU activation\n",
        "model.add(Dense(64, activation='relu'))\n",
        "\n",
        "# Output layer with 10 neurons (one for each digit 0-9)\n",
        "# We use softmax activation for probability distribution\n",
        "model.add(Dense(10, activation='softmax'))"
      ]
    },
    {
      "cell_type": "markdown",
      "metadata": {
        "id": "FeLiawyzX24G"
      },
      "source": [
        "### **Explanation:**\n",
        "\n",
        "* We define a sequential model using `Sequential()`.\n",
        "* The first layer (`Flatten`) flattens the 28x28 image into a single array.\n",
        "* We add two hidden layers (`Dense`) with 128 and 64 neurons respectively. These layers learn complex patterns from the data.\n",
        "* `activation='relu'` specifies the ReLU (Rectified Linear Unit) activation function for hidden layers, introducing non-linearity.\n",
        "* The final output layer has 10 neurons, one for each digit (0-9).\n",
        "* We use `activation='softmax'` here for multi-class classification problems"
      ]
    },
    {
      "cell_type": "markdown",
      "metadata": {
        "id": "2WeiTZCEZNdm"
      },
      "source": [
        "## **5: Compiling the Model**\n",
        "Before training, we need to configure how the model should learn:\n",
        "\n",
        "* **Optimizer:** The algorithm that updates model weights during training to reduce errors. _Adam_ is a smart and commonly used method that works well for most problems. ***Adam*** is an optimizer that automatically adjusts how much each weight moves during training by combining momentum and adaptive learning rates, making learning faster and more reliable.\n",
        "* **Loss function:** How the model measures error and **Accuracy** reports how well the model's predictions aligned with actual target values."
      ]
    },
    {
      "cell_type": "code",
      "execution_count": null,
      "metadata": {
        "colab": {
          "base_uri": "https://localhost:8080/"
        },
        "id": "wt0RFd1VUYce",
        "outputId": "e550f38f-b60d-4cde-d2ba-a5f6dfeba489"
      },
      "outputs": [
        {
          "name": "stdout",
          "output_type": "stream",
          "text": [
            "Model: \"sequential\"\n",
            "_________________________________________________________________\n",
            " Layer (type)                Output Shape              Param #   \n",
            "=================================================================\n",
            " flatten (Flatten)           (None, 784)               0         \n",
            "                                                                 \n",
            " dense (Dense)               (None, 128)               100480    \n",
            "                                                                 \n",
            " dense_1 (Dense)             (None, 64)                8256      \n",
            "                                                                 \n",
            " dense_2 (Dense)             (None, 10)                650       \n",
            "                                                                 \n",
            "=================================================================\n",
            "Total params: 109386 (427.29 KB)\n",
            "Trainable params: 109386 (427.29 KB)\n",
            "Non-trainable params: 0 (0.00 Byte)\n",
            "_________________________________________________________________\n"
          ]
        }
      ],
      "source": [
        "# Compile the model\n",
        "model.compile(loss='categorical_crossentropy',\n",
        "              optimizer='adam',\n",
        "              metrics=['accuracy'])\n",
        "\n",
        "# Summary shows the model architecture (layers and parameters)\n",
        "model.summary()"
      ]
    },
    {
      "cell_type": "markdown",
      "metadata": {
        "id": "H7X08PoGZZRO"
      },
      "source": [
        "### **Explanation:**\n",
        "\n",
        "* `model.compile()` configures the model for the training process. Here's what we do:\n",
        "    * **loss='categorical_crossentropy':** Used for multi-class classification (since we have 10 digits).\n",
        "    * **optimizer='adam':** A popular optimization algorithm for updating model weights.\n",
        "    * **metrics=['accuracy']**: We'll track accuracy while training.\n",
        "* `model.summary() `prints a nice summary of our model's structure."
      ]
    },
    {
      "cell_type": "markdown",
      "metadata": {
        "id": "x5yZeCGNZzaS"
      },
      "source": [
        "### **One-Hot Encoding the Labels**\n",
        "The output layer uses a 'softmax' activation function, which means it expects our labels to be in a one-hot encoded format. Let's fix that:"
      ]
    },
    {
      "cell_type": "code",
      "execution_count": null,
      "metadata": {
        "id": "TFNq-LoxVNKm"
      },
      "outputs": [],
      "source": [
        "# Convert labels to one-hot encoded format to match model output shape\n",
        "y_train = tf.keras.utils.to_categorical(y_train, num_classes=10)\n",
        "y_test = tf.keras.utils.to_categorical(y_test, num_classes=10)"
      ]
    },
    {
      "cell_type": "markdown",
      "metadata": {
        "id": "N-4xNay6aGPO"
      },
      "source": [
        "### **Explanation:**\n",
        "\n",
        "* We import `tf.keras.utils.to_categorical`.\n",
        "* Before training, we convert the digit labels (`y_train` and `y_test`) into a one-hot encoded form. For example, if `y_train[0]` was the digit '3', it would convert to a vector of length 10: `[0, 0, 0, 1, 0, 0, 0, 0, 0, 0`] (only the position matching the digit 3 is 1).\n",
        "\n",
        "### **Why is One-Hot Encoding Necessary?**\n",
        "\n",
        "* Our model outputs probabilities associated with each class (0-9). To correctly calculate the loss ('categorical_crossentropy') during training, the true labels need to be in the same format – a vector indicating the correct class.\n",
        "* One-hot encoding enables this format and makes the comparison between the model's prediction and the true label easier and more accurate."
      ]
    },
    {
      "cell_type": "markdown",
      "metadata": {
        "id": "0wU439SAbRqR"
      },
      "source": [
        "## **6: Training the Model**"
      ]
    },
    {
      "cell_type": "code",
      "execution_count": null,
      "metadata": {
        "colab": {
          "base_uri": "https://localhost:8080/"
        },
        "id": "QHnaUE-maxle",
        "outputId": "6460b48d-1240-43cb-8fff-ddfd7101dc34"
      },
      "outputs": [
        {
          "name": "stdout",
          "output_type": "stream",
          "text": [
            "Epoch 1/5\n",
            "1875/1875 [==============================] - 13s 6ms/step - loss: 0.2352 - accuracy: 0.9302 - val_loss: 0.1195 - val_accuracy: 0.9630\n",
            "Epoch 2/5\n",
            "1875/1875 [==============================] - 6s 3ms/step - loss: 0.0992 - accuracy: 0.9698 - val_loss: 0.0947 - val_accuracy: 0.9707\n",
            "Epoch 3/5\n",
            "1875/1875 [==============================] - 7s 4ms/step - loss: 0.0697 - accuracy: 0.9778 - val_loss: 0.0824 - val_accuracy: 0.9751\n",
            "Epoch 4/5\n",
            "1875/1875 [==============================] - 6s 3ms/step - loss: 0.0537 - accuracy: 0.9825 - val_loss: 0.0818 - val_accuracy: 0.9737\n",
            "Epoch 5/5\n",
            "1875/1875 [==============================] - 8s 4ms/step - loss: 0.0420 - accuracy: 0.9865 - val_loss: 0.0851 - val_accuracy: 0.9755\n"
          ]
        }
      ],
      "source": [
        "# Train the model\n",
        "history = model.fit(x_train, y_train,\n",
        "                    epochs=5,\n",
        "                    batch_size=32,\n",
        "                    validation_data=(x_test, y_test))"
      ]
    },
    {
      "cell_type": "markdown",
      "metadata": {
        "id": "7BiRaQFSbVTj"
      },
      "source": [
        "### **Explanation:**\n",
        "\n",
        "* `model.fit()` starts the training process. Let's break down the arguments:\n",
        "    * **x_train, y_train:** The training data.\n",
        "    * **epochs=5:** We'll train our model for 5 iterations over the entire dataset.\n",
        "    * **batch_size=32:** Process the data in batches of 32 samples at a time.\n",
        "    * **validation_data=(x_test, y_test):** Use the testing data to evaluate our model after each epoch."
      ]
    },
    {
      "cell_type": "markdown",
      "metadata": {
        "id": "bN0sa0FIbi0O"
      },
      "source": [
        "## **7: Evaluating the Model**"
      ]
    },
    {
      "cell_type": "code",
      "execution_count": null,
      "metadata": {
        "colab": {
          "base_uri": "https://localhost:8080/"
        },
        "id": "9IfRuC96UnM1",
        "outputId": "f77d1573-1cad-4204-8cf5-b7c6e429372a"
      },
      "outputs": [
        {
          "name": "stdout",
          "output_type": "stream",
          "text": [
            "313/313 [==============================] - 1s 2ms/step - loss: 0.0851 - accuracy: 0.9755\n",
            "Test Loss: 0.0851\n",
            "Test Accuracy: 97.55%\n"
          ]
        }
      ],
      "source": [
        "# Evaluate the model's performance on the testing data\n",
        "test_loss, test_acc = model.evaluate(x_test, y_test)\n",
        "\n",
        "print(f'Test Loss: {test_loss:.4f}')\n",
        "print(f'Test Accuracy: {test_acc:.2%}')"
      ]
    },
    {
      "cell_type": "markdown",
      "metadata": {
        "id": "fq97jy3bbm9H"
      },
      "source": [
        "### **Explanation:**\n",
        "\n",
        "* `model.evaluate()` calculates the model's loss and accuracy on the testing dataset.\n",
        "* We print the test loss and test accuracy to see how well the model has performed."
      ]
    },
    {
      "cell_type": "markdown",
      "metadata": {
        "id": "E0BpsAVIbre-"
      },
      "source": [
        "## **8: Visualizing Results**"
      ]
    },
    {
      "cell_type": "code",
      "execution_count": null,
      "metadata": {
        "colab": {
          "base_uri": "https://localhost:8080/",
          "height": 449
        },
        "id": "QcFPtD8fVe1P",
        "outputId": "a9cf9b42-6d56-421e-c4df-c655c70e702c"
      },
      "outputs": [
        {
          "data": {
            "image/png": "[encoded data removed]",
            "text/plain": [
              "<Figure size 640x480 with 1 Axes>"
            ]
          },
          "metadata": {},
          "output_type": "display_data"
        }
      ],
      "source": [
        "import matplotlib.pyplot as plt\n",
        "\n",
        "# Plot training and validation accuracy over epochs\n",
        "plt.plot(history.history['accuracy'], label='Training Accuracy')\n",
        "plt.plot(history.history['val_accuracy'], label='Validation Accuracy')\n",
        "plt.xlabel('Epoch')\n",
        "plt.ylabel('Accuracy')\n",
        "plt.legend()\n",
        "plt.show()"
      ]
    },
    {
      "cell_type": "markdown",
      "metadata": {
        "id": "6XqfToC1bwrK"
      },
      "source": [
        "### **Explanation:**\n",
        "\n",
        "* We import `matplotlib.pyplot` for plotting.\n",
        "* We plot the training accuracy and validation accuracy from the `history` object (created from `model.fit()`.\n",
        "* Labels, legends, and titles are added for clarity."
      ]
    },
    {
      "cell_type": "markdown",
      "metadata": {
        "id": "w_a1BkZYb_W_"
      },
      "source": [
        "## **9: Making Predictions**"
      ]
    },
    {
      "cell_type": "code",
      "execution_count": null,
      "metadata": {
        "colab": {
          "base_uri": "https://localhost:8080/",
          "height": 469
        },
        "id": "SLWvkHLqVg9D",
        "outputId": "e58b0019-ac00-43c7-9df3-262290c1c63a"
      },
      "outputs": [
        {
          "name": "stdout",
          "output_type": "stream",
          "text": [
            "1/1 [==============================] - 0s 86ms/step\n"
          ]
        },
        {
          "data": {
            "image/png": "[encoded data removed]",
            "text/plain": [
              "<Figure size 640x480 with 1 Axes>"
            ]
          },
          "metadata": {},
          "output_type": "display_data"
        }
      ],
      "source": [
        "import numpy as np\n",
        "\n",
        "# Pick a random sample index\n",
        "random_idx = np.random.randint(len(x_test))\n",
        "\n",
        "# Get the image and its true label (what digit it represents)\n",
        "test_image = x_test[random_idx]\n",
        "true_label = y_test[random_idx]\n",
        "\n",
        "# Reshape image for single sample prediction\n",
        "test_image = test_image.reshape(1, 28*28)\n",
        "\n",
        "# Prediction by the model\n",
        "predictions = model.predict(test_image)\n",
        "predicted_label = np.argmax(predictions[0])\n",
        "\n",
        "# Let's visualize!\n",
        "plt.imshow(test_image.reshape(28, 28), cmap=\"gray\")\n",
        "plt.title(f\"True Label: {true_label}, Predicted: {predicted_label}\")\n",
        "plt.show()"
      ]
    },
    {
      "cell_type": "markdown",
      "metadata": {
        "id": "wb1PP-KUcCnu"
      },
      "source": [
        "### **Explanation:**\n",
        "\n",
        "* We randomly pick an image from the testing set.\n",
        "* We reshape the image since our model expects input in a specific shape.\n",
        "* We make a prediction using `model.predict()`.\n",
        "* `np.argmax` gives the index of the class with the highest probability (our predicted digit).\n",
        "* We visualize the image and its true and predicted labels."
      ]
    },
    {
      "cell_type": "markdown",
      "metadata": {
        "id": "9rDaCpbycj1p"
      },
      "source": [
        "**Conclusion**\n",
        "\n",
        "In this exercise, we built a simple image classification model using TensorFlow to classify handwritten digits from the MNIST dataset. We explored the fundamental concepts of loading data, creating a model with hidden layers, training, evaluating, and making predictions. This example serves as a solid foundation for understanding the basics of image classification with neural networks.\n",
        "\n",
        "**Next Steps: Exploring Deeper**\n",
        "\n",
        "If you want to extend your knowledge and dive deeper into image classification, consider these next steps:\n",
        "\n",
        "* **Experiment with Model Architecture:** Try adding more hidden layers, changing the number of neurons, and using different activation functions. Analyze how these changes affect the model's performance.\n",
        "\n",
        "* **Explore Convolutional Neural Networks (CNNs):** CNNs are extremely powerful for image classification. Get started with this guide: [https://www.tensorflow.org/tutorials/images/cnn](https://www.tensorflow.org/tutorials/images/cnn)\n",
        "\n",
        "* **Tackle More Complex Datasets:** Challenge yourself with datasets like CIFAR-10 ([https://www.cs.toronto.edu/~kriz/cifar.html](https://www.cs.toronto.edu/~kriz/cifar.html))  or ImageNet ([http://image-net.org/](http://image-net.org/)) for color image classification at a larger scale.\n",
        "\n",
        "**Remember, practice and experimentation are key to developing your skills in machine learning! Enjoy the journey!**\n"
      ]
    }
  ],
  "metadata": {
    "colab": {
      "provenance": []
    },
    "kernelspec": {
      "display_name": "Python 3 (ipykernel)",
      "language": "python",
      "name": "python3"
    },
    "language_info": {
      "codemirror_mode": {
        "name": "ipython",
        "version": 3
      },
      "file_extension": ".py",
      "mimetype": "text/x-python",
      "name": "python",
      "nbconvert_exporter": "python",
      "pygments_lexer": "ipython3",
      "version": "3.10.12"
    }
  },
  "nbformat": 4,
  "nbformat_minor": 0
}