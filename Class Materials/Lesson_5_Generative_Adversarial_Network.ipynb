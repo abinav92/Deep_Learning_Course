{
  "cells": [
    {
      "cell_type": "markdown",
      "metadata": {
        "id": "efrYUdHQUYtX"
      },
      "source": [
        "# **Generative Adversarial Networks (GANs) - Hands-on Exercise**\n",
        "This exercise will guide you through building and training a simple Generative Adversarial Network (GAN) using TensorFlow. GANs are a powerful class of deep learning models that can generate new data resembling the training data.\n",
        "\n",
        "## **Learning Objectives:**\n",
        "\n",
        "* Understand the core concepts of GANs (Generator and Discriminator).\n",
        "* Implement a DCGAN (Deep Convolutional GAN) architecture in TensorFlow.\n",
        "* Train the GAN model on a dataset of images.\n",
        "* Visualize the generated images during training.\n",
        "\n",
        "## **Prerequisites:**\n",
        "\n",
        "* Basic understanding of Python programming.\n",
        "* Familiarity with Machine Learning and Deep Learning concepts.\n",
        "\n"
      ]
    },
    {
      "cell_type": "markdown",
      "metadata": {
        "id": "5-JKAuARUoz3"
      },
      "source": [
        "## **1: Setting Up the Environment**"
      ]
    },
    {
      "cell_type": "code",
      "execution_count": null,
      "metadata": {
        "colab": {
          "base_uri": "https://localhost:8080/"
        },
        "id": "9zMAuz0vDm9q",
        "outputId": "1904902b-1762-4d78-84be-3852264b83cb"
      },
      "outputs": [
        {
          "output_type": "stream",
          "name": "stdout",
          "text": [
            "Downloading data from https://storage.googleapis.com/tensorflow/tf-keras-datasets/mnist.npz\n",
            "\u001b[1m11490434/11490434\u001b[0m \u001b[32m━━━━━━━━━━━━━━━━━━━━\u001b[0m\u001b[37m\u001b[0m \u001b[1m0s\u001b[0m 0us/step\n"
          ]
        }
      ],
      "source": [
        "# Import libraries\n",
        "import tensorflow as tf\n",
        "from tensorflow.keras.datasets import mnist # handwritten digits from classification lesson 2\n",
        "from tensorflow.keras.layers import Dense, Flatten, Conv2D, Conv2DTranspose, Reshape, LeakyReLU\n",
        "from tensorflow.keras.models import Sequential\n",
        "\n",
        "# Load MNIST dataset (handwritten digits)\n",
        "(train_images, _), (_, _) = mnist.load_data() # loading mnist data and only keep train_images to supply ground truth to discriminator\n",
        "\n",
        "# Preprocess data (normalize pixel values to range [0, 1])\n",
        "train_images = train_images.reshape(-1, 28, 28, 1)\n",
        "train_images = train_images.astype('float32') / 255.0 # standardization pixels to be within 0-1"
      ]
    },
    {
      "cell_type": "markdown",
      "metadata": {
        "id": "0ag5oj72Uwxu"
      },
      "source": [
        "### **Explanation:**\n",
        "\n",
        "1. We import necessary libraries: TensorFlow for deep learning operations, mnist dataset for handwritten digits, and Keras layers for building neural networks.\n",
        "  - `Dense`, `Conv2D`, etc., to build Generator and Discriminator.\n",
        "  - `Conv2DTranspose` is for upsampling (used in the Generator).\n",
        "  - `LeakyReLU` is a common activation in GANs to avoid dying neurons.\n",
        "2. We load the MNIST dataset, separating training images from labels (which we won't use in this exercise).\n",
        "  - Typically we would load as (train_images, train_labels), (test_images, test_labels) = mnist.load_data() to unpack the tuples into training and testing images with their corresponding labels.\n",
        "  - In this case, we use `_` to still unpack all the tuples from the dataset, but only keep `train_images`, while discarding the rest, because we only need training images for GAN training.\n",
        "3.  We reshape the images to include a channel dimension (as our model expects colored images that come in 3 channels).\n",
        "  - CNN expects input in this format: (number of images, image height, image width, number of channels)\n",
        "  - `reshape(-1,...)`: This is a shortcut that tells Python, \"Figure this out for me based on the total number of images.\"\n",
        "  - `reshape(..,28, 28,...)`: height and width of each image — the Fashion-MNIST dataset has 28×28 pixel grayscale images.\n",
        "  - `reshape(...,1)`: number of color channels - 1 = grayscale (black & white) and 3 = RGB color image. Note that our dataset is grayscale images.\n",
        "4. Finally, we normalize pixel values to the range of 0 to 1, a common practice for image data."
      ]
    },
    {
      "cell_type": "markdown",
      "metadata": {
        "id": "VEn1AUnKU7nA"
      },
      "source": [
        "## **2: Building the GAN Model**"
      ]
    },
    {
      "cell_type": "code",
      "execution_count": null,
      "metadata": {
        "id": "1__UkPzkD8zi",
        "colab": {
          "base_uri": "https://localhost:8080/"
        },
        "outputId": "71617dd6-2722-4ec4-a7d9-c490c0b5e57d"
      },
      "outputs": [
        {
          "output_type": "stream",
          "name": "stderr",
          "text": [
            "/usr/local/lib/python3.11/dist-packages/keras/src/layers/core/dense.py:87: UserWarning: Do not pass an `input_shape`/`input_dim` argument to a layer. When using Sequential models, prefer using an `Input(shape)` object as the first layer in the model instead.\n",
            "  super().__init__(activity_regularizer=activity_regularizer, **kwargs)\n",
            "/usr/local/lib/python3.11/dist-packages/keras/src/layers/activations/leaky_relu.py:41: UserWarning: Argument `alpha` is deprecated. Use `negative_slope` instead.\n",
            "  warnings.warn(\n",
            "/usr/local/lib/python3.11/dist-packages/keras/src/layers/convolutional/base_conv.py:107: UserWarning: Do not pass an `input_shape`/`input_dim` argument to a layer. When using Sequential models, prefer using an `Input(shape)` object as the first layer in the model instead.\n",
            "  super().__init__(activity_regularizer=activity_regularizer, **kwargs)\n"
          ]
        }
      ],
      "source": [
        "# Define the Generator model\n",
        "def build_generator(): # python function: def func_name(arguments):\n",
        "    model = Sequential() # Start building a sequential model\n",
        "    model.add(Dense(7 * 7 * 256, use_bias=False, input_shape=(100,)))\n",
        "    model.add(Reshape((7, 7, 256)))\n",
        "    model.add(Conv2DTranspose(128, (3, 3), strides=2, activation='relu', padding='same')) # deconv\n",
        "    model.add(Conv2DTranspose(64, (3, 3), strides=2, activation='relu', padding='same'))\n",
        "    model.add(Conv2DTranspose(1, (3, 3), activation='tanh', padding='same'))\n",
        "    return model # function ends with what to output when the function is called defined by \"return\"\n",
        "\n",
        "# Define the Discriminator model\n",
        "def build_discriminator(image_shape):\n",
        "    model = Sequential()\n",
        "    model.add(Conv2D(64, (3, 3), input_shape=image_shape, activation=LeakyReLU(alpha=0.2))) # conv layer 1 with 64 nodes & 3x3 kernel\n",
        "    model.add(Conv2D(128, (3, 3), activation=LeakyReLU(alpha=0.2))) # conv layer 2 with 128 nodes &  3x3 kernel\n",
        "    model.add(Flatten()) # flatten to 1D vector to attach to FFNN\n",
        "    model.add(Dense(1, activation='sigmoid')) # output layer\n",
        "    return model\n",
        "\n",
        "# Create the Generator and Discriminator models\n",
        "generator = build_generator() # function call/invoke build_generator() and assign model to generator\n",
        "discriminator = build_discriminator((28, 28, 1)) # function call/invoke build_discriminator() and assign model to generator"
      ]
    },
    {
      "cell_type": "markdown",
      "metadata": {
        "id": "1EXl2pH_VDIg"
      },
      "source": [
        "### **Explanation:**\n",
        "\n",
        "1. We define two separate functions to build the Generator and Discriminator models.\n",
        "2. **Generator:** - Its job is to take random noise as input and generate a 28×28 image that looks like a handwritten digit.\n",
        "    * `model = Sequential()` - Start building a model where layers are added one after another.\n",
        "    * `model.add(Dense(7 * 7 * 256, use_bias=False, input_shape=(100,)))` - Take a random vector of size 100 (noise) and map it into a larger flat vector of length 7 x 7 x 256 = 12,544 values — imagine stretching the noise into something shaped like a rough 7×7 (height x width) image with 256 channels.\n",
        "      - The input vector size of 100 here is arbitary, but widely used because it's big enough to hold diverse information, yet small enough to compute efficiently.\n",
        "      - The output of this layer is a flat vector of size 12,544, which will then be reshaped into a 3D tensor.\n",
        "    * `model.add(Reshape((7, 7, 256)))` - Reshape that long vector into a 3D block of shape 7 × 7 × 256, which is like a small, deep image.\n",
        "      - Why these dimensions?\n",
        "        - The goal is to eventually generate 28x28 size images for the MNIST digits, so starting with a smaller “seed image” (7 × 7) and then doubling the size twice using Conv2DTranspose layers: 7×7 → 14×14 → 28×28\n",
        "        - 256 is the number of channels — think of it like the depth of the image, where more channels allow the network to learn more features.\n",
        "        - Channels are \"feature layers\". In normal color images, there are 3 channels - Red (R), green (G), Blue (B).\n",
        "        - But in neural networks: More channels = more capacity to store learned features. Each channel learns different aspects of the image (e.g., edges, curves, textures)\n",
        "        - There can be a different number as well, not strictly 256. Just be aware of trade-offs - if we chose higher channels, e.g., 512, we'll have room for more detailed features, better quality — but slower and heavier. Similarly, if the channels were lower, e.g., 128 or 64, we may lose detail, but achieve higher speeds\n",
        "\n",
        "  * First 2 `Conv2DTranspose` - The first 2 `Conv2DTranspose()` layers are used to upsample the image — that means increasing its height and width step by step, like zooming in but with learned detail added.\n",
        "    - With every `stride=2` in a transpose convolution (also called deconvolution), a stride of 2 means: “Expand the spatial size (height and width) by 2×.” This is opposite to normal convolution where increasing stride would shrink output image vector. In below image, we can see how an input image has doubled its size after Transposed Convolution with stride 2. So, after these 2 `Conv2DTranspose` layers, the output image size doubles from 7×7 → 14×14 → 28×28\n",
        "    ![](https://media.geeksforgeeks.org/wp-content/uploads/20230110162532/Transposed-Convolutional-2.png)\n",
        "    - padding='same' - Keeps the image size exactly what the stride wants — no cropping or shrinking.\n",
        "    - The first `Conv2DTranspose` layer outputs 128 layers/features while the next does 64. (3,3) in both cases is the Kernel size used when applying upsampling. These numbers are hyperparameters and can be changed. Though, for the design we're keeping it intentional to start off with more channels, 128 (to learn more complex features) followed by 64 as we closer to the output.\n",
        "    - `activation='relu'` -\tHelps the model learn complex patterns.\n",
        " * Last `Conv2DTranspose` `model.add(Conv2DTranspose(1, (3, 3), activation='tanh', padding='same'))`\n",
        "    - `Conv2DTranspose(1,..)`: Number of output channels, because our image is in grayscale with just 1 channel\n",
        "    - `Conv2DTranspose(..,(3,3)`: Still the kernel (also called a filter) size. Since no stride is specified, it's value defaults to 1 and this layer of `Conv2DTranspose` does _not_ upsample since we already reached the target size (28×28) from the previous 2 layers\n",
        "    - `tanh` activation: Used here because It outputs values between -1 and 1 which matches the normalized pixel range often used in GANs. It helps stabilize training and makes the final image sharper and more centered around zero\n",
        "\n",
        "3. **Discriminator:** - Its job is to take a 28×28 image and decide: is it real or fake?\n",
        "    * Takes an image (28x28) grayscale/1 channel as input.\n",
        "    * Uses convolutional layers to do downsampling - extract features from the image. `LeakyReLU` activation function allows small gradients even for negative values — helps avoid dead neurons.\n",
        "    * Note that in the `Conv2D` layers here, we start simple: 64 filters to detect things like edges, blobs. Then go deeper: 128 filters learn higher-level features like shapes or digit structure.\n",
        "    * Flattens the 3D feature map into a 1D vector, so it can be passed into a fully connected (Dense output) layer.\n",
        "    * Final output with sigmoid activation classifies the image as real (1) or fake (0)."
      ]
    },
    {
      "cell_type": "markdown",
      "metadata": {
        "id": "kiEQXb1iVobw"
      },
      "source": [
        "## **3: Defining Loss Functions and Optimizers**"
      ]
    },
    {
      "cell_type": "code",
      "execution_count": null,
      "metadata": {
        "id": "g0Qo-s8zHkv9"
      },
      "outputs": [],
      "source": [
        "# Define loss functions\n",
        "cross_entropy = tf.keras.losses.BinaryCrossentropy()\n",
        "\n",
        "def discriminator_loss(real_output, fake_output):\n",
        "    real_loss = cross_entropy(tf.ones_like(real_output), real_output) # Compare the model’s prediction on real images to what it should be: 1 (real).\n",
        "    fake_loss = cross_entropy(tf.zeros_like(fake_output), fake_output) # Compare the model’s prediction on fake images to what it should be: 0 (fake).\n",
        "    total_loss = real_loss + fake_loss\n",
        "    return total_loss\n",
        "\n",
        "def generator_loss(fake_output):\n",
        "    return cross_entropy(tf.ones_like(fake_output), fake_output) # Measures how far Generator's fake_output/image is from 1\n",
        "\n",
        "# Define Optimizers\n",
        "generator_optimizer = tf.keras.optimizers.Adam(learning_rate=1e-4, beta_1=0.5)\n",
        "discriminator_optimizer = tf.keras.optimizers.Adam(learning_rate=1e-4, beta_1=0.5)"
      ]
    },
    {
      "cell_type": "markdown",
      "metadata": {
        "id": "HG1bbYYTVxJR"
      },
      "source": [
        "### **Explanation:**\n",
        "\n",
        "* `discriminator_loss`:\n",
        "\n",
        "    * Calculates the 'real loss' by comparing the discriminator's output on real images to a 'target' of all ones (since real images should be classified close to 1).\n",
        "    * Calculates the 'fake loss' by comparing the discriminator's output on generated (fake) images to a 'target' of all zeros.\n",
        "    * Returns the total loss, which is the sum of the 'real loss' and 'fake loss'.\n",
        "    * Note that `tf.ones_like(real_output)` returns a tensor (array) of __1s__ that has the same shape as real_output, similarly tf.zeros_like(fake_output) returns __0s__\n",
        "\n",
        "* `generator_loss`:\n",
        "\n",
        "    * Calculates the loss for the generator by comparing the discriminator's output on the generated (fake) images to a 'target' of all ones. The generator wants the discriminator to believe its fake images are real.\n",
        "      - If the Discriminator gives 0.2 (means “I think it's fake”), the Generator gets a high loss — because it failed to fool the Discriminator.\n",
        "      - If the Discriminator gives 0.9 (means “I think it’s real”), the Generator gets a low loss — great job fooling it!\n",
        "\n",
        "* `generator_optimizer`, `discriminator_optimizer`:\n",
        "\n",
        "    * We use the Adam optimizer for updating weights in both the generator and discriminator. The parameters (learning rate, etc.) can be fine-tuned for optimal training.\n",
        "      - `learning_rate=1e-4` means \"learn slowly\" (0.0001) — helps stability\n",
        "      - `beta_1=0.5` is a GAN-specific trick that helps reduce model instability.\n",
        "\n",
        "### **Key Points**\n",
        "\n",
        "* **Binary Crossentropy Loss:** This loss function is well-suited for tasks where the output is a probability between 0 and 1 (like the discriminator trying to predict if an image is real or fake)."
      ]
    },
    {
      "cell_type": "markdown",
      "metadata": {
        "id": "iUTxPMwNaRCb"
      },
      "source": [
        "## **4: Training the GAN**"
      ]
    },
    {
      "cell_type": "code",
      "execution_count": null,
      "metadata": {
        "id": "5Ul3pcZBx_79"
      },
      "outputs": [],
      "source": [
        "# Hyperparameters\n",
        "batch_size = 128 # Number of images processed at once\n",
        "noise_dim = 100 # Size of the random noise input for the Generator\n",
        "epochs = 10  # How many times to loop through the dataset. Adjust for longer training if needed"
      ]
    },
    {
      "cell_type": "code",
      "execution_count": null,
      "metadata": {
        "colab": {
          "base_uri": "https://localhost:8080/"
        },
        "id": "PoqvKyrTHnWC",
        "outputId": "082e15f8-a867-4961-a5b6-a36231e7e514",
        "collapsed": true
      },
      "outputs": [
        {
          "output_type": "stream",
          "name": "stdout",
          "text": [
            "Epoch [1/10], Batch: 0, Discriminator Loss: 1.3763 Generator Loss: 0.6918\n",
            "Epoch [1/10], Batch: 100, Discriminator Loss: 0.6679 Generator Loss: 1.5600\n",
            "Epoch [1/10], Batch: 200, Discriminator Loss: 0.5680 Generator Loss: 1.4663\n",
            "Epoch [1/10], Batch: 300, Discriminator Loss: 0.5838 Generator Loss: 1.4959\n",
            "Epoch [1/10], Batch: 400, Discriminator Loss: 0.8100 Generator Loss: 1.2479\n",
            "Epoch [2/10], Batch: 0, Discriminator Loss: 0.7861 Generator Loss: 0.8845\n",
            "Epoch [2/10], Batch: 100, Discriminator Loss: 0.8646 Generator Loss: 1.5800\n",
            "Epoch [2/10], Batch: 200, Discriminator Loss: 0.8627 Generator Loss: 1.3078\n",
            "Epoch [2/10], Batch: 300, Discriminator Loss: 0.8023 Generator Loss: 1.3255\n",
            "Epoch [2/10], Batch: 400, Discriminator Loss: 1.0083 Generator Loss: 1.4397\n",
            "Epoch [3/10], Batch: 0, Discriminator Loss: 0.9690 Generator Loss: 0.7383\n",
            "Epoch [3/10], Batch: 100, Discriminator Loss: 0.7729 Generator Loss: 1.1870\n",
            "Epoch [3/10], Batch: 200, Discriminator Loss: 0.8106 Generator Loss: 1.0989\n",
            "Epoch [3/10], Batch: 300, Discriminator Loss: 0.7401 Generator Loss: 1.1717\n",
            "Epoch [3/10], Batch: 400, Discriminator Loss: 0.9782 Generator Loss: 0.8552\n",
            "Epoch [4/10], Batch: 0, Discriminator Loss: 0.8155 Generator Loss: 0.8333\n",
            "Epoch [4/10], Batch: 100, Discriminator Loss: 0.8639 Generator Loss: 1.6000\n",
            "Epoch [4/10], Batch: 200, Discriminator Loss: 0.7699 Generator Loss: 1.2084\n",
            "Epoch [4/10], Batch: 300, Discriminator Loss: 0.7303 Generator Loss: 1.3679\n",
            "Epoch [4/10], Batch: 400, Discriminator Loss: 1.2150 Generator Loss: 1.6971\n",
            "Epoch [5/10], Batch: 0, Discriminator Loss: 0.9268 Generator Loss: 0.7495\n",
            "Epoch [5/10], Batch: 100, Discriminator Loss: 0.7612 Generator Loss: 1.4891\n",
            "Epoch [5/10], Batch: 200, Discriminator Loss: 0.7354 Generator Loss: 1.2921\n",
            "Epoch [5/10], Batch: 300, Discriminator Loss: 0.6817 Generator Loss: 1.3238\n",
            "Epoch [5/10], Batch: 400, Discriminator Loss: 0.9721 Generator Loss: 1.8285\n",
            "Epoch [6/10], Batch: 0, Discriminator Loss: 0.7973 Generator Loss: 0.8545\n",
            "Epoch [6/10], Batch: 100, Discriminator Loss: 0.7581 Generator Loss: 1.3278\n",
            "Epoch [6/10], Batch: 200, Discriminator Loss: 0.8887 Generator Loss: 0.9845\n",
            "Epoch [6/10], Batch: 300, Discriminator Loss: 0.7838 Generator Loss: 1.0985\n",
            "Epoch [6/10], Batch: 400, Discriminator Loss: 0.9940 Generator Loss: 1.4305\n",
            "Epoch [7/10], Batch: 0, Discriminator Loss: 0.8926 Generator Loss: 0.6559\n",
            "Epoch [7/10], Batch: 100, Discriminator Loss: 0.8583 Generator Loss: 1.2026\n",
            "Epoch [7/10], Batch: 200, Discriminator Loss: 0.9713 Generator Loss: 1.3766\n",
            "Epoch [7/10], Batch: 300, Discriminator Loss: 0.8105 Generator Loss: 1.4359\n",
            "Epoch [7/10], Batch: 400, Discriminator Loss: 1.2110 Generator Loss: 1.3051\n",
            "Epoch [8/10], Batch: 0, Discriminator Loss: 1.2808 Generator Loss: 0.5709\n",
            "Epoch [8/10], Batch: 100, Discriminator Loss: 1.0238 Generator Loss: 1.3133\n",
            "Epoch [8/10], Batch: 200, Discriminator Loss: 0.8406 Generator Loss: 1.1857\n",
            "Epoch [8/10], Batch: 300, Discriminator Loss: 0.9293 Generator Loss: 1.0282\n",
            "Epoch [8/10], Batch: 400, Discriminator Loss: 1.1911 Generator Loss: 1.2184\n",
            "Epoch [9/10], Batch: 0, Discriminator Loss: 1.0564 Generator Loss: 0.7909\n",
            "Epoch [9/10], Batch: 100, Discriminator Loss: 0.9895 Generator Loss: 1.0785\n",
            "Epoch [9/10], Batch: 200, Discriminator Loss: 0.9764 Generator Loss: 1.3361\n",
            "Epoch [9/10], Batch: 300, Discriminator Loss: 1.0015 Generator Loss: 0.9680\n",
            "Epoch [9/10], Batch: 400, Discriminator Loss: 1.4446 Generator Loss: 1.5353\n",
            "Epoch [10/10], Batch: 0, Discriminator Loss: 1.1413 Generator Loss: 0.5967\n",
            "Epoch [10/10], Batch: 100, Discriminator Loss: 1.0169 Generator Loss: 1.0749\n",
            "Epoch [10/10], Batch: 200, Discriminator Loss: 0.7983 Generator Loss: 1.5104\n",
            "Epoch [10/10], Batch: 300, Discriminator Loss: 0.9861 Generator Loss: 0.8348\n",
            "Epoch [10/10], Batch: 400, Discriminator Loss: 1.2980 Generator Loss: 1.1109\n"
          ]
        }
      ],
      "source": [
        "# Training loop repeated for each epoch (one full pass through the data)\n",
        "for epoch in range(epochs):\n",
        "    # Take all training images from train_images, break them into batches of size 128 (based on batch_size definition above)\n",
        "    # Loop through those batches with a loop counter batch_idx generated by enumerate\n",
        "    # We do it this way because in GANs, this is not handled conveniently for us within model.fit() of standard NN\n",
        "\n",
        "    for batch_idx, real_images in enumerate(tf.data.Dataset.from_tensor_slices(train_images).batch(batch_size)):\n",
        "\n",
        "        ## Train the Discriminator\n",
        "\n",
        "        # Step 1: Generate random noise of shape (128, 100) to generate 128 images at once, each with length 100\n",
        "        noise = tf.random.normal([batch_size, noise_dim])\n",
        "\n",
        "        # Step 2: Pass the noise through the Generator function to create fake images\n",
        "        fake_images = generator(noise)\n",
        "\n",
        "        # Step 3: # Use GradientTape to track operations during forward pass\n",
        "        # So we can calculate gradients and update weights during backpropagation\n",
        "        with tf.GradientTape() as d_tape:\n",
        "            real_output = discriminator(real_images, training=True) # Discriminator predicts on real images (should say 1)\n",
        "            fake_output = discriminator(fake_images, training=True)  # Discriminator predicts on fake images from the Generator (should say 0)\n",
        "            d_loss = discriminator_loss(real_output, fake_output) # Compute total loss for the Discriminator (real should be 1, fake should be 0)\n",
        "\n",
        "        # Step 4: Calculate gradients and apply updates to the Discriminator\n",
        "        d_gradients = d_tape.gradient(d_loss, discriminator.trainable_variables)\n",
        "        discriminator_optimizer.apply_gradients(zip(d_gradients, discriminator.trainable_variables))\n",
        "        # --------------------------------------------------------------------------------------------------\n",
        "\n",
        "        ## Train the Generator\n",
        "\n",
        "        # Step 1: Generate a new batch of noise\n",
        "        noise = tf.random.normal([batch_size, noise_dim])\n",
        "\n",
        "        # Step 2: Use GradientTape to track operations during forward pass\n",
        "        # So we can calculate gradients and update weights during backpropagation\n",
        "        with tf.GradientTape() as g_tape:\n",
        "            fake_images = generator(noise, training=True) # Generate fake images from the new noise\n",
        "            fake_output = discriminator(fake_images, training=False) # Pass the fake images to the Discriminator (which is now fixed for this step)\n",
        "            g_loss = generator_loss(fake_output) # Calculate Generator loss (how well it fooled the Discriminator)\n",
        "\n",
        "        # Step 3: Calculate gradients and apply updates to the Generator\n",
        "        g_gradients = g_tape.gradient(g_loss, generator.trainable_variables)\n",
        "        generator_optimizer.apply_gradients(zip(g_gradients, generator.trainable_variables))\n",
        "\n",
        "        # Print progress every 100 batches\n",
        "        # For out dataset of 60k samples and batch size set to 128, we see until Batch 400 because of 60k/128 ~468 batches per epoch\n",
        "        if batch_idx % 100 == 0:\n",
        "            print(f'Epoch [{epoch + 1}/{epochs}], Batch: {batch_idx}, Discriminator Loss: {d_loss:.4f} Generator Loss: {g_loss:.4f}')"
      ]
    },
    {
      "cell_type": "markdown",
      "metadata": {
        "id": "__nK_Awsac3W"
      },
      "source": [
        "### **Explanation:**\n",
        "\n",
        "We dive into the core training process of our Generative Adversarial Network (GAN). Here, we'll witness the fascinating interplay between the generator and discriminator as they strive to improve their abilities.\n",
        "\n",
        "**The Training Loop:**\n",
        "\n",
        "The training involves an iterative process through epochs (full passes through the training data). Within each epoch, we iterate through batches of the MNIST dataset. Here's what happens during each iteration (batch):\n",
        "\n",
        "1. **Train the Discriminator:**\n",
        "\n",
        "    * **Generate Fake Images:** We use the generator to create a batch of fake images based on random noise input.\n",
        "    * **Calculate Discriminator Loss:** We calculate the loss for the discriminator on two sets of images:\n",
        "        * **Real Images:** The discriminator tries to classify real MNIST digits (labeled as close to 1).\n",
        "        * **Fake Images:** The discriminator tries to classify the generated fake images (labeled as close to 0).\n",
        "    * **Update Discriminator:** We use the calculated loss to update the weights of the discriminator through backpropagation, aiming to make it better at distinguishing real from fake images.\n",
        "\n",
        "2. **Train the Generator:**\n",
        "\n",
        "    * **Generate Fake Images (Again):** Similar to step 1, we generate a batch of fake images using the generator.\n",
        "    * **Calculate Generator Loss:** We calculate the loss for the generator based on how well it can fool the discriminator. Ideally, the generator wants the discriminator to believe its fake images are real (labeled close to 1).\n",
        "    * **Update Generator:** We use the generator loss to update the weights of the generator through backpropagation, aiming to make it better at creating images that resemble real MNIST digits.\n",
        "\n",
        "**Key Points:**\n",
        "\n",
        "* This adversarial training process creates a competition where the generator and discriminator continuously push each other's boundaries.\n",
        "* The discriminator loss encourages the discriminator to become a better classifier of real vs. fake images.\n",
        "* The generator loss encourages the generator to produce more realistic-looking fake images.\n",
        "* Over multiple epochs, the generator gradually improves its ability to generate high-quality images that can deceive the discriminator.\n",
        "\n",
        "**Additional Considerations:**\n",
        "\n",
        "* Hyperparameter Tuning: Learning rates, batch sizes, and optimizer choices can significantly impact training performance. Experimentation might be needed to find the optimal settings."
      ]
    },
    {
      "cell_type": "markdown",
      "metadata": {
        "id": "9RQ59GhebuZ-"
      },
      "source": [
        "## **5: Generating New Digits**"
      ]
    },
    {
      "cell_type": "code",
      "execution_count": null,
      "metadata": {
        "id": "jjl-hoRlx_79"
      },
      "outputs": [],
      "source": [
        "# Hyperparameters\n",
        "noise_dim = 100"
      ]
    },
    {
      "cell_type": "code",
      "execution_count": null,
      "metadata": {
        "colab": {
          "base_uri": "https://localhost:8080/",
          "height": 732
        },
        "id": "Rz711vYPIHSV",
        "outputId": "e3f84722-2576-43d3-e850-42ffb1670366"
      },
      "outputs": [
        {
          "output_type": "display_data",
          "data": {
            "text/plain": [
              "<Figure size 800x800 with 16 Axes>"
            ],
            "image/png": "[encoded data removed]"
          },
          "metadata": {}
        }
      ],
      "source": [
        "import matplotlib.pyplot as plt\n",
        "\n",
        "# Generate new images\n",
        "num_images_to_generate = 16 # create 16 fake images\n",
        "noise = tf.random.normal([num_images_to_generate, noise_dim]) # use TensorFlow library (tf) to create a bunch of random numbers.\n",
        "# The normal part means these numbers will follow a \"normal distribution\" (also known as a bell curve), which is a common way to generate random numbers\n",
        "generated_images = generator(noise, training=False) # training=False to run inference, not training. we follow this setting AFTER  training\n",
        "\n",
        "# Visualize generated images\n",
        "plt.figure(figsize=(8, 8)) # sets the size for the entire canvas\n",
        "for i in range(generated_images.shape[0]):\n",
        "    plt.subplot(4, 4, i+1) # create and select a specific \"subplot\" within the larger figure that was created with plt.figure()\n",
        "    # (4, 4, i+1) creates a 4x4 rowxcol grid, select (i+1)-th position in that 4x4 grid.\n",
        "    # The loop variable i goes from 0 to 15, so i+1 goes from 1 to 16, ensuring each of the 16 images gets its own spot in the grid\n",
        "\n",
        "    plt.imshow(generated_images[i, :, :, 0] * 127.5 + 127.5, cmap='gray') # main command to display an image in the currently selected subplot\n",
        "    # :, :, 0: Selects all rows and all columns of the image, and specifically takes the first (and only) channel (0) since it's a grayscale image.\n",
        "    # * 127.5 + 127.5: This part is crucial for displaying the image correctly. Remember that the generator's output uses a tanh activation, which produces pixel values between -1 and 1.\n",
        "    # Image display functions typically expect pixel values in the range of 0 to 255 (for 8-bit grayscale). This calculation scales the values from the [-1, 1] range to the [0, 255] range\n",
        "    # Multiplying by 127.5 scales the range from [-1, 1] to [-127.5, 127.5].\n",
        "    # Adding 127.5 shifts the range from [-127.5, 127.5] to [0, 255].\n",
        "    # cmap='gray': This specifies that the image should be displayed in grayscale colors.\n",
        "\n",
        "    plt.axis('off') # urns off the axes (the numbers and tick marks) to make the grid look cleaner\n",
        "plt.suptitle(\"Generated Digits\", fontsize = 16)\n",
        "plt.show()"
      ]
    },
    {
      "cell_type": "markdown",
      "metadata": {
        "id": "sr7G8c_GbzwB"
      },
      "source": [
        "### **Explanation:**\n",
        "\n",
        "1. **Generate Noise:** We create a random noise vector, which serves as input to the generator.\n",
        "2. **Generate Images:** The trained `generator` model is called with this `noise` to produce new images using the `training=False` parameter to use the generator's inference mode.\n",
        "3. **Visualize:** We display the generated images in a grid. You should see a grid of newly generated handwritten digits!\n",
        "\n",
        "### **Important Notes:**\n",
        "\n",
        "* **Quality:** The quality of the generated images depends on how well your GAN has been trained. If they still seem blurry or distorted, you might want to continue training your GAN for more epochs.\n",
        "* **Randomness:** Each time you run this code, you'll get a different set of generated digits due to the random noise input."
      ]
    }
  ],
  "metadata": {
    "accelerator": "GPU",
    "colab": {
      "gpuType": "T4",
      "provenance": []
    },
    "kernelspec": {
      "display_name": "Python 3",
      "name": "python3"
    },
    "language_info": {
      "codemirror_mode": {
        "name": "ipython",
        "version": 3
      },
      "file_extension": ".py",
      "mimetype": "text/x-python",
      "name": "python",
      "nbconvert_exporter": "python",
      "pygments_lexer": "ipython3",
      "version": "3.10.12"
    }
  },
  "nbformat": 4,
  "nbformat_minor": 0
}